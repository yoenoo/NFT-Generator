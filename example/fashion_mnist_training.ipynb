{
 "cells": [
  {
   "cell_type": "code",
   "execution_count": null,
   "metadata": {},
   "outputs": [],
   "source": [
    "import numpy as np \n",
    "from pathlib import Path\n",
    "from tqdm.auto import tqdm\n",
    "from functools import partial\n",
    "\n",
    "import torch\n",
    "import torch.nn.functional as F \n",
    "from torch.optim import Adam\n",
    "from torch.optim import lr_scheduler\n",
    "from torch.utils.data import DataLoader\n",
    "from torchvision import datasets, transforms\n",
    "\n",
    "import utils\n",
    "from models import UNet2DModel\n",
    "\n",
    "DEVICE = \"cuda\" if torch.cuda.is_available() else \"cpu\"\n",
    "print(f\"Running on {DEVICE}...\")"
   ]
  },
  {
   "attachments": {},
   "cell_type": "markdown",
   "metadata": {},
   "source": [
    "#### Training diffusion (unconditional) model for Fashion MNIST\n",
    "The input image is 28x28x1 image. The pixel values are first converted into a PyTorch tensor in the range [0,1] from [0,255] (via `transforms.toTensor()`), which is then padded 0s on all sides (thus image size increased to 32x32). Lastly, the image is re-scaled to [-0.5,0.5] which helps more efficient training."
   ]
  },
  {
   "cell_type": "code",
   "execution_count": null,
   "metadata": {},
   "outputs": [],
   "source": [
    "tfm = transforms.Compose([\n",
    "  transforms.ToTensor(),\n",
    "  transforms.Pad(2),\n",
    "  lambda x: x-0.5,\n",
    "])\n",
    "\n",
    "bs = 512\n",
    "dataset = datasets.FashionMNIST(root=\"./data\", download=True, transform=tfm)\n",
    "dls = DataLoader(dataset, batch_size=bs, shuffle=True)"
   ]
  },
  {
   "cell_type": "code",
   "execution_count": null,
   "metadata": {},
   "outputs": [],
   "source": [
    "model = UNet2DModel(in_channels=1, out_channels=1, nfs=(32,64,128,256), num_layers=2)\n",
    "model = model.to(DEVICE)"
   ]
  },
  {
   "attachments": {},
   "cell_type": "markdown",
   "metadata": {},
   "source": [
    "Train the UNet model with the Adam optimizer according to the 1cycle learning rate policy (see [paper](https://arxiv.org/abs/1708.07120))"
   ]
  },
  {
   "cell_type": "code",
   "execution_count": null,
   "metadata": {},
   "outputs": [],
   "source": [
    "# hyperparameters\n",
    "lr = 1e-2\n",
    "epochs = 25\n",
    "tmax = epochs * len(dls)\n",
    "optimizer = Adam(model.parameters(), eps=1e-5)\n",
    "sched = partial(lr_scheduler.OneCycleLR, max_lr=lr, total_steps=tmax)\n",
    "schedo = sched(optimizer)\n",
    "\n",
    "save_dir = Path(\"./weights\")\n",
    "save_dir.mkdir(parents=True, exist_ok=True)"
   ]
  },
  {
   "cell_type": "code",
   "execution_count": null,
   "metadata": {},
   "outputs": [],
   "source": [
    "model.train()\n",
    "train_losses = []\n",
    "for epoch in range(epochs):\n",
    "  batch_train_losses = []\n",
    "  pbar = tqdm(dls, mininterval=2)\n",
    "  for xb, _ in pbar:\n",
    "    optimizer.zero_grad()\n",
    "    xb = xb.to(DEVICE)\n",
    "    (noised_input, t), target = utils.noisify(xb)\n",
    "    out = model((noised_input, t))\n",
    "    loss = F.mse_loss(out, target)\n",
    "    loss.backward()\n",
    "    schedo.optimizer.step()\n",
    "    schedo.step()\n",
    "    batch_train_losses.append(loss.item())\n",
    "    pbar.set_description(f\"loss {loss.item():.2f}\")\n",
    "\n",
    "  train_losses.extend(batch_train_losses)\n",
    "  print(f\"Epoch {epoch}, loss: {np.mean(train_losses)}\")\n",
    "\n",
    "  # save the model every 4 epochs\n",
    "  if epoch % 4 == 0 or epoch == int(epochs-1):\n",
    "    model_path = save_dir / f\"emnist_model_{epoch}_bs_{bs}.pth\"\n",
    "    torch.save(model.state_dict(), model_path)\n",
    "    print(f\"saved model at {model_path.absolute().as_posix()}\")"
   ]
  }
 ],
 "metadata": {
  "language_info": {
   "name": "python"
  },
  "orig_nbformat": 4
 },
 "nbformat": 4,
 "nbformat_minor": 2
}
